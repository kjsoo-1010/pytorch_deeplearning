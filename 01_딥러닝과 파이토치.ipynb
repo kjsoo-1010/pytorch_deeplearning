{
 "cells": [
  {
   "cell_type": "markdown",
   "id": "449a77e3",
   "metadata": {},
   "source": [
    "## 목차\n",
    "- 인공지능과 머신러닝\n",
    "- 지도학습, 비지도학습, 강화학습\n",
    "- 딥러닝과 신경망\n",
    "- 파이토치가 개발되기까지\n",
    "- 왜 파이토치인가?"
   ]
  },
  {
   "cell_type": "code",
   "execution_count": null,
   "id": "aa97ab10",
   "metadata": {},
   "outputs": [],
   "source": []
  }
 ],
 "metadata": {
  "kernelspec": {
   "display_name": "Python 3 (ipykernel)",
   "language": "python",
   "name": "python3"
  },
  "language_info": {
   "codemirror_mode": {
    "name": "ipython",
    "version": 3
   },
   "file_extension": ".py",
   "mimetype": "text/x-python",
   "name": "python",
   "nbconvert_exporter": "python",
   "pygments_lexer": "ipython3",
   "version": "3.10.7"
  }
 },
 "nbformat": 4,
 "nbformat_minor": 5
}
