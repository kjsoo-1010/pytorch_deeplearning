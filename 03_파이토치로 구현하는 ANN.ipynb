{
 "cells": [
  {
   "cell_type": "markdown",
   "id": "d54b3d11",
   "metadata": {},
   "source": [
    "# 학습 목표\n",
    "파이토치를 이용하여 가장 기본적인 인공 신경망(artificial neural network, ANN)을 만들어보자!\n",
    "\n",
    "# 목차\n",
    "- 텐서와 Autograd 패키지\n",
    "- 경사하강법으로 이미지 복원하기\n",
    "- 신경망 모델 구현하기"
   ]
  },
  {
   "cell_type": "markdown",
   "id": "a8e854bd",
   "metadata": {},
   "source": [
    "### 1. 텐서와 Autograd"
   ]
  },
  {
   "cell_type": "markdown",
   "id": "79785479",
   "metadata": {},
   "source": [
    "### 1-1) 텐서의 차원 자유자재로 다루기"
   ]
  },
  {
   "cell_type": "code",
   "execution_count": 5,
   "id": "9f01a48e",
   "metadata": {},
   "outputs": [],
   "source": [
    "# 파이토치 import\n",
    "import torch"
   ]
  },
  {
   "cell_type": "markdown",
   "id": "ee85e8bb",
   "metadata": {},
   "source": [
    "텐서 = 숫자들을 일정한 모양으로 배열한 것.\n",
    "\n",
    "랭크 = 차원\n",
    "\n",
    "랭크에 따른 형태\n",
    "- 1 -> 스칼라 / 모양: []\n",
    "- [1, 2, 3] -> 벡터 / 모양: [3]\n",
    "- [[1, 2, 3]] -> 행렬 / 모양: [1, 3]\n",
    "- [[[1, 2, 3]]] -> n랭크 텐서 / 모양: [1, 1, 3]"
   ]
  },
  {
   "cell_type": "code",
   "execution_count": 6,
   "id": "d3d9ec20",
   "metadata": {},
   "outputs": [
    {
     "name": "stdout",
     "output_type": "stream",
     "text": [
      "tensor([[1, 2, 3],\n",
      "        [4, 5, 6],\n",
      "        [7, 8, 9]])\n"
     ]
    }
   ],
   "source": [
    "x = torch.tensor([[1, 2, 3], [4, 5, 6], [7, 8, 9]])\n",
    "print(x)"
   ]
  },
  {
   "cell_type": "code",
   "execution_count": 7,
   "id": "41558b4e",
   "metadata": {},
   "outputs": [
    {
     "name": "stdout",
     "output_type": "stream",
     "text": [
      "Size: torch.Size([3, 3])\n",
      "Shape: torch.Size([3, 3])\n",
      "랭크(차원): 2\n"
     ]
    }
   ],
   "source": [
    "print(f\"Size: {x.size()}\")\n",
    "print(f\"Shape: {x.shape}\")\n",
    "print(f\"랭크(차원): {x.ndimension()}\")"
   ]
  },
  {
   "cell_type": "markdown",
   "id": "9c4b7c79",
   "metadata": {},
   "source": [
    "`unsqueeze()`, `squeeze()`, `view()` 함수로 텐서의 랭크와 shape를 인위적으로 바꿀 수 있다!"
   ]
  },
  {
   "cell_type": "code",
   "execution_count": 8,
   "id": "449ac751",
   "metadata": {},
   "outputs": [
    {
     "name": "stdout",
     "output_type": "stream",
     "text": [
      "tensor([[[1, 2, 3],\n",
      "         [4, 5, 6],\n",
      "         [7, 8, 9]]])\n",
      "Size: torch.Size([1, 3, 3])\n",
      "Shape: torch.Size([1, 3, 3])\n",
      "랭크(차원): 3\n"
     ]
    }
   ],
   "source": [
    "# 랭크 늘리기\n",
    "x = torch.unsqueeze(x, 0)\n",
    "print(x)\n",
    "\n",
    "print(f\"Size: {x.size()}\")\n",
    "print(f\"Shape: {x.shape}\")\n",
    "print(f\"랭크(차원): {x.ndimension()}\")"
   ]
  },
  {
   "cell_type": "markdown",
   "id": "e0ff2a7c",
   "metadata": {},
   "source": [
    "[3, 3] 형태의 랭크 2 텐서의 첫 번째 자리에 1이라는 차원값을 추가하여 [1, 3, 3] 모양의 랭크 3 텐서로 변경."
   ]
  },
  {
   "cell_type": "code",
   "execution_count": 11,
   "id": "e07c2337",
   "metadata": {},
   "outputs": [
    {
     "name": "stdout",
     "output_type": "stream",
     "text": [
      "tensor([[1, 2, 3],\n",
      "        [4, 5, 6],\n",
      "        [7, 8, 9]])\n",
      "Size: torch.Size([3, 3])\n",
      "Shape: torch.Size([3, 3])\n",
      "랭크(차원): 2\n"
     ]
    }
   ],
   "source": [
    "# 랭크 줄이기\n",
    "x = torch.squeeze(x)\n",
    "print(x)\n",
    "\n",
    "print(f\"Size: {x.size()}\")\n",
    "print(f\"Shape: {x.shape}\")\n",
    "print(f\"랭크(차원): {x.ndimension()}\")"
   ]
  },
  {
   "cell_type": "markdown",
   "id": "ca851303",
   "metadata": {},
   "source": [
    "`squeeze()`, `unsqueeze()` 를 사용해서 차원 수를 늘리고 줄여도 총 원소 수는 유지되는 것을 확인할 수 있다!\n",
    "\n",
    "`view()` : 원소 수 유지하면서 텐서 크기 변경."
   ]
  },
  {
   "cell_type": "code",
   "execution_count": 12,
   "id": "40369c73",
   "metadata": {},
   "outputs": [
    {
     "name": "stdout",
     "output_type": "stream",
     "text": [
      "tensor([1, 2, 3, 4, 5, 6, 7, 8, 9])\n",
      "Size: torch.Size([9])\n",
      "Shape: torch.Size([9])\n",
      "랭크(차원): 1\n"
     ]
    }
   ],
   "source": [
    "# x를 [3, 3] -> [9] \n",
    "x = x.view(9)\n",
    "print(x)\n",
    "\n",
    "print(f\"Size: {x.size()}\")\n",
    "print(f\"Shape: {x.shape}\")\n",
    "print(f\"랭크(차원): {x.ndimension()}\")"
   ]
  },
  {
   "cell_type": "markdown",
   "id": "db6a42aa",
   "metadata": {},
   "source": [
    "`view()` 예시를 하나만 더 살펴보자면,"
   ]
  },
  {
   "cell_type": "code",
   "execution_count": 14,
   "id": "77bd4242",
   "metadata": {},
   "outputs": [
    {
     "name": "stdout",
     "output_type": "stream",
     "text": [
      "Size: torch.Size([2, 2, 3])\n",
      "Shape: torch.Size([2, 2, 3])\n",
      "랭크(차원): 3\n"
     ]
    }
   ],
   "source": [
    "ex = torch.tensor([[[0, 1, 2], [3, 4, 5]], [[6, 7, 8], [9, 10, 11]]])\n",
    "\n",
    "print(f\"Size: {ex.size()}\")\n",
    "print(f\"Shape: {ex.shape}\")\n",
    "print(f\"랭크(차원): {ex.ndimension()}\")"
   ]
  },
  {
   "cell_type": "code",
   "execution_count": 15,
   "id": "3ed2adbe",
   "metadata": {},
   "outputs": [
    {
     "name": "stdout",
     "output_type": "stream",
     "text": [
      "tensor([[ 0,  1,  2],\n",
      "        [ 3,  4,  5],\n",
      "        [ 6,  7,  8],\n",
      "        [ 9, 10, 11]])\n",
      "torch.Size([4, 3])\n"
     ]
    }
   ],
   "source": [
    "print(ex.view([-1, 3])) # ex라는 텐서를 (?, 3)의 크기로 변경\n",
    "print(ex.view([-1, 3]).shape)"
   ]
  },
  {
   "cell_type": "markdown",
   "id": "0278d8d2",
   "metadata": {},
   "source": [
    "### 1-2) 텐서를 이용한 연산과 행렬곱"
   ]
  },
  {
   "cell_type": "code",
   "execution_count": 1,
   "id": "eba9c614",
   "metadata": {},
   "outputs": [
    {
     "name": "stdout",
     "output_type": "stream",
     "text": [
      "w size:  torch.Size([5, 3])\n",
      "x size:  torch.Size([3, 2])\n",
      "w:  tensor([[-0.2160, -0.1075, -0.4239],\n",
      "        [-1.3240, -1.0760, -1.1653],\n",
      "        [-1.6739,  0.9338, -0.4222],\n",
      "        [ 0.0161, -0.3775, -0.3342],\n",
      "        [ 1.5347, -0.6861,  1.4807]])\n",
      "x:  tensor([[1., 2.],\n",
      "        [3., 4.],\n",
      "        [5., 6.]])\n"
     ]
    }
   ],
   "source": [
    "import torch\n",
    "\n",
    "w = torch.randn(5, 3, dtype = torch.float)\n",
    "x = torch.tensor([[1.0,2.0], [3.0, 4.0], [5.0, 6.0]])\n",
    "print(\"w size: \", w.size()) # 5, 3\n",
    "print(\"x size: \", x.size())  # 3, 2\n",
    "print(\"w: \", w)\n",
    "print(\"x: \", x)"
   ]
  },
  {
   "cell_type": "code",
   "execution_count": 3,
   "id": "e0fa0db9",
   "metadata": {},
   "outputs": [
    {
     "name": "stdout",
     "output_type": "stream",
     "text": [
      "b size:  torch.Size([5, 2])\n",
      "b:  tensor([[-0.8994, -1.2410],\n",
      "        [ 0.3491, -0.0774],\n",
      "        [-0.8490, -0.2266],\n",
      "        [-0.5137,  0.0152],\n",
      "        [ 0.7142, -2.1923]])\n"
     ]
    }
   ],
   "source": [
    "b = torch.randn(5, 2, dtype = torch.float)\n",
    "print(\"b size: \", b.size())\n",
    "print(\"b: \", b)"
   ]
  },
  {
   "cell_type": "code",
   "execution_count": 5,
   "id": "826135db",
   "metadata": {
    "scrolled": true
   },
   "outputs": [
    {
     "name": "stdout",
     "output_type": "stream",
     "text": [
      "wx: tensor([[ -2.6579,  -3.4053],\n",
      "        [-10.3782, -13.9434],\n",
      "        [ -0.9836,  -2.1459],\n",
      "        [ -2.7875,  -3.4832],\n",
      "        [  6.8798,   9.2090]])\n",
      "wx size: torch.Size([5, 2])\n"
     ]
    }
   ],
   "source": [
    "# 행렬곱 구하기\n",
    "wx = torch.mm(w, x)\n",
    "print(f\"wx: {wx}\")\n",
    "print(f\"wx size: {wx.size()}\")"
   ]
  },
  {
   "cell_type": "code",
   "execution_count": 7,
   "id": "9441f38f",
   "metadata": {},
   "outputs": [
    {
     "name": "stdout",
     "output_type": "stream",
     "text": [
      "result: tensor([[ -3.5574,  -4.6463],\n",
      "        [-10.0291, -14.0208],\n",
      "        [ -1.8326,  -2.3725],\n",
      "        [ -3.3012,  -3.4680],\n",
      "        [  7.5939,   7.0167]])\n",
      "result size: torch.Size([5, 2])\n"
     ]
    }
   ],
   "source": [
    "# 행렬 덧셈\n",
    "result = wx + b\n",
    "print(f\"result: {result}\")\n",
    "print(f\"result size: {result.size()}\")"
   ]
  },
  {
   "cell_type": "markdown",
   "id": "0ddc4285",
   "metadata": {},
   "source": [
    "### 1-3) Autograd"
   ]
  },
  {
   "cell_type": "markdown",
   "id": "bf77a573",
   "metadata": {},
   "source": [
    "Autograd = 자동 기울기\n",
    "\n",
    "- 거리(distance) = 정답과 머신러닝 모델이 예측한 결과의 **차이**\n",
    "- 오차(loss) = 학습 데이터로 계산한 **거리들의 평균**\n",
    "\n",
    "오차 최소화하는 알고리즘 중 가장 유명하고 많이 쓰이는 것 = **경사하강법**"
   ]
  },
  {
   "cell_type": "markdown",
   "id": "a3c07255",
   "metadata": {},
   "source": [
    "- 값이 1.0인 스칼라 텐서 w 정의 후, 수식 w에 대해 미분하여 기울기 계산하기\n",
    "\n",
    "`requires_grad = True`로 설정하면 파이토치 Autograd 기능이 계산할 때 자동으로 w에 대한 미분값을 w.grad 에 저장함."
   ]
  },
  {
   "cell_type": "code",
   "execution_count": 29,
   "id": "79cf2f20",
   "metadata": {},
   "outputs": [],
   "source": [
    "w = torch.tensor(1.0, requires_grad = True)"
   ]
  },
  {
   "cell_type": "code",
   "execution_count": 30,
   "id": "47424914",
   "metadata": {},
   "outputs": [],
   "source": [
    "a = w*3"
   ]
  },
  {
   "cell_type": "code",
   "execution_count": 31,
   "id": "965018a2",
   "metadata": {},
   "outputs": [],
   "source": [
    "l = a**2"
   ]
  },
  {
   "cell_type": "markdown",
   "id": "04a04b16",
   "metadata": {},
   "source": [
    "현재 상황 : `l = a**2 = (3w)**2 = 9 * (w**2)`\n",
    "\n",
    "l을 w로 미분하려면 연쇄법칙 사용해야함. -> `backward()` 함수 사용"
   ]
  },
  {
   "cell_type": "markdown",
   "id": "20b3a94b",
   "metadata": {},
   "source": [
    "📌 좀 더 알아보기 \n",
    "- requires_grad\n",
    "- backward()"
   ]
  },
  {
   "cell_type": "code",
   "execution_count": 36,
   "id": "d0162181",
   "metadata": {
    "scrolled": true
   },
   "outputs": [
    {
     "name": "stdout",
     "output_type": "stream",
     "text": [
      "True\n",
      "False\n",
      "False\n",
      "---\n",
      "False\n",
      "<MulBackward0 object at 0x0000025F0EB40160>\n",
      "---\n",
      "False\n",
      "<PowBackward0 object at 0x0000025F0EB43820>\n"
     ]
    }
   ],
   "source": [
    "print((w.is_leaf == True) and (w.grad_fn == None))\n",
    "print((a.is_leaf == True) and (a.grad_fn == None))\n",
    "print((l.is_leaf == True) and (l.grad_fn == None))\n",
    "print(\"---\")\n",
    "print(a.is_leaf)\n",
    "print(a.grad_fn)\n",
    "print(\"---\")\n",
    "print(l.is_leaf)\n",
    "print(l.grad_fn)"
   ]
  },
  {
   "cell_type": "markdown",
   "id": "5826cf87",
   "metadata": {},
   "source": [
    "- leaf 텐서 = 기존 연산 기록이 없는 텐서.\n",
    "- w는 leaf 텐서이다. (w.is_leaf == True, w.grad_fn == None)\n",
    "- a와 l은 leaf 텐서가 아니다.\n",
    "\n",
    "어떤 연산을 했느냐에 따라 `grad_fn`에 `AddBackward0`, `SubBackward0`, `MulBackward0`, `DivBackward0`, `PowBackward0` 와 같이 저장되어 있는 것을 확인할 수 있다.\n",
    "\n",
    "backward()는 leaf 텐서의 `.grad`, 즉 기울기를 계산한다.\n",
    "\n",
    "이를 계산하기 위해서는 전제조건이 필요하다.\n",
    "1. 역미분을 수행하려는 하나 이상의 leaf 텐서가 `requires_grad = True` 일 것\n",
    "2. `backward()`를 호출하는 텐서는 스칼라일 것.\n",
    "3. 미분 가능한 연산일 것. (미분 불가능한 연산 또는 점의 grad는 계산 결과를 신뢰할 수 없다.)\n",
    "\n"
   ]
  },
  {
   "cell_type": "code",
   "execution_count": 35,
   "id": "3acdb454",
   "metadata": {},
   "outputs": [
    {
     "name": "stdout",
     "output_type": "stream",
     "text": [
      "l을 w로 미분한 값은 18.0\n"
     ]
    }
   ],
   "source": [
    "l.backward()\n",
    "print(f\"l을 w로 미분한 값은 {w.grad}\")"
   ]
  },
  {
   "cell_type": "markdown",
   "id": "58ea2373",
   "metadata": {},
   "source": [
    "`backward()`를 실행하면 `.grad_fn`에 기록된 정보를 시작으로 마지막 연산부터 거슬러 올라가며 역미분을 수행한다.\n",
    "\n",
    "|  | leaf 텐서 | non-leaf 텐서|\n",
    "|------|-----------|--------------|\n",
    "| is_leaf | True | False |\n",
    "| grad | 존재 | None |\n",
    "|grad_fn | None | 존재 |\n",
    "\n",
    "이 때 backward 경로 상에 있는 non-leaf 텐서는 leaf 텐서의 grad 를 계산하기 위해 항상 `requires_grad = True` 여야한다.\n"
   ]
  },
  {
   "cell_type": "markdown",
   "id": "9ee5382d",
   "metadata": {},
   "source": [
    "### 2. 경사하강법으로 이미지 복원하기"
   ]
  },
  {
   "cell_type": "markdown",
   "id": "93f6d4e2",
   "metadata": {},
   "source": [
    "### 2-1) 오염된 이미지 문제\n",
    "\n",
    "이미지 처리를 위해 만들어 두었던 weird_function() 함수에 실수로 버그가 들어가 100x100 픽셀의 오염된 이미지가 만들어졌다. 오염된 이미지와 weird_function() 함수를 활용해 원본 이미지를 복원하자.\n",
    "\n",
    "### 2-2) 오염된 이미지를 복원하는 방법\n",
    "weird_function()을 살펴보고 반대로 동작하는 함수를 구현하는 것도 방법일 수 있지만, 함수 하나하나 뜯어보는건 너무 까다로운 작업.\n",
    "\n",
    "-> 크기 같은 랜덤 텐서 생성하고 얘를 weird_function()에 넣었을 때, 결과(=가설)가 오염된 이미지와 같다면, `랜덤 텐서 = 원본 이미지`가 된다!\n",
    "\n",
    "### 2-3) 문제 해결과 코드 구현"
   ]
  },
  {
   "cell_type": "code",
   "execution_count": 37,
   "id": "20505c45",
   "metadata": {},
   "outputs": [],
   "source": [
    "import torch\n",
    "import pickle\n",
    "import matplotlib.pyplot as plt"
   ]
  },
  {
   "cell_type": "code",
   "execution_count": 41,
   "id": "21ed5e67",
   "metadata": {},
   "outputs": [
    {
     "data": {
      "text/plain": [
       "<matplotlib.image.AxesImage at 0x25f12530f70>"
      ]
     },
     "execution_count": 41,
     "metadata": {},
     "output_type": "execute_result"
    },
    {
     "data": {
      "image/png": "[encoded data removed]",
      "text/plain": [
       "<Figure size 640x480 with 1 Axes>"
      ]
     },
     "metadata": {},
     "output_type": "display_data"
    }
   ],
   "source": [
    "img_path = \"3-min-pytorch/03-파이토치로_구현하는_ANN\"\n",
    "\n",
    "# 오염된 이미지 불러오기\n",
    "broken_image = torch.FloatTensor( pickle.load(open(img_path + \"/broken_image_t.p\", \"rb\"), encoding = \"latin1\" ) )\n",
    "\n",
    "# 오염된 이미지 출력하여 확인\n",
    "plt.imshow(broken_image.view(100, 100))"
   ]
  },
  {
   "cell_type": "code",
   "execution_count": 42,
   "id": "55c1963e",
   "metadata": {},
   "outputs": [],
   "source": [
    "# weird_function\n",
    "def weird_function(x, n_iter=5):\n",
    "    h = x    \n",
    "    filt = torch.tensor([-1./3, 1./3, -1./3])\n",
    "    for i in range(n_iter):\n",
    "        zero_tensor = torch.tensor([1.0*0])\n",
    "        h_l = torch.cat( (zero_tensor, h[:-1]), 0)\n",
    "        h_r = torch.cat((h[1:], zero_tensor), 0 )\n",
    "        h = filt[0] * h + filt[2] * h_l + filt[1] * h_r\n",
    "        if i % 2 == 0:\n",
    "            h = torch.cat( (h[h.shape[0]//2:],h[:h.shape[0]//2]), 0  )\n",
    "    return h"
   ]
  },
  {
   "cell_type": "markdown",
   "id": "97ba98f0",
   "metadata": {},
   "source": [
    "코드를 이해하여 반대로 실행하지 않고, 머신러닝을 이용하여 이미지를 복원해보자"
   ]
  },
  {
   "cell_type": "code",
   "execution_count": 43,
   "id": "74343c06",
   "metadata": {},
   "outputs": [],
   "source": [
    "# 무작위 텐서를 weird_function 함수에 입력해 얻은 가설 텐서와\n",
    "# 오염된 이미지 사이의 오차 구하는 함수 구현\n",
    "\n",
    "def distance_loss(h, broken_image):\n",
    "    return torch.dist(h, broken_image)"
   ]
  },
  {
   "cell_type": "markdown",
   "id": "bb5ba9c0",
   "metadata": {},
   "source": [
    "`torch.dist()` : 두 텐서 사이의 거리 구하는 함수"
   ]
  },
  {
   "cell_type": "code",
   "execution_count": 44,
   "id": "999fa8a0",
   "metadata": {},
   "outputs": [],
   "source": [
    "# 오염된 이미지와 크기가 같은 랜덤 텐서 생성하기\n",
    "random_tensor = torch.randn(100*100, dtype = torch.float)"
   ]
  },
  {
   "cell_type": "markdown",
   "id": "3d4e500a",
   "metadata": {},
   "source": [
    "경사하강법은 여러 번 반복해서 이루어짐.\n",
    "한 반복에서 최솟점으로 얼마나 많이 이동하는지를 정하는 매개변수를 **학습률**이라고 한다. 우선 0.8로 설정.\n",
    "\n",
    "경사하강법의 몸체인 for 반복문 구현하기."
   ]
  },
  {
   "cell_type": "code",
   "execution_count": 48,
   "id": "57f83fd2",
   "metadata": {},
   "outputs": [
    {
     "name": "stdout",
     "output_type": "stream",
     "text": [
      "loss at 0 = 12.388728141784668\n",
      "loss at 1000 = 1.1533136367797852\n",
      "loss at 2000 = 0.5374141335487366\n",
      "loss at 3000 = 0.3740074932575226\n",
      "loss at 4000 = 0.29787084460258484\n",
      "loss at 5000 = 0.25086307525634766\n",
      "loss at 6000 = 0.21650207042694092\n",
      "loss at 7000 = 0.18881291151046753\n",
      "loss at 8000 = 0.1651799976825714\n",
      "loss at 9000 = 0.14424003660678864\n",
      "loss at 10000 = 0.12517927587032318\n",
      "loss at 11000 = 0.10746888816356659\n",
      "loss at 12000 = 0.09074938297271729\n",
      "loss at 13000 = 0.07477107644081116\n",
      "loss at 14000 = 0.05935865640640259\n",
      "loss at 15000 = 0.04438850283622742\n",
      "loss at 16000 = 0.02977452427148819\n",
      "loss at 17000 = 0.021152310073375702\n",
      "loss at 18000 = 0.021165795624256134\n",
      "loss at 19000 = 0.021167615428566933\n"
     ]
    },
    {
     "data": {
      "text/plain": [
       "<matplotlib.image.AxesImage at 0x25f125dacb0>"
      ]
     },
     "execution_count": 48,
     "metadata": {},
     "output_type": "execute_result"
    },
    {
     "data": {
      "image/png": "[encoded data removed]",
      "text/plain": [
       "<Figure size 640x480 with 1 Axes>"
      ]
     },
     "metadata": {},
     "output_type": "display_data"
    }
   ],
   "source": [
    "lr = 0.8\n",
    "\n",
    "# 1. 오차 함수를 random_tensor로 미분해야하기 때문에 `requires_grad`를 True로 설정한다.\n",
    "for i in range(20000):\n",
    "    random_tensor.requires_grad_(True)\n",
    "    \n",
    "    # 2. 랜덤 텐서를 `weird_function()`에 통과시켜 가설을 구하고,\n",
    "    # `distance_loss()` 함수에 가설과 오염된 이미지를 입력해 오차를 계산한다.\n",
    "    # 그 후, `loss.backward()` 함수를 호출하여 loss를 random_tensor로 미분한다.\n",
    "    \n",
    "    hypoth = weird_function(random_tensor)\n",
    "    loss = distance_loss(hypoth, broken_image)\n",
    "    loss.backward()\n",
    "    \n",
    "    # 3. 직접 경사하강법을 구현하기 위해 torch.no_grad() 함수를 이용해서\n",
    "    # 자동 기울기 계산 비활성화.\n",
    "    \n",
    "    with torch.no_grad():\n",
    "        # 4. random_tensor.grad 에는 loss.backward() 함수에서 계산한 loss 의 기울기가 들어있음.\n",
    "        # 이 방향의 반대쪽으로 random_tensor를 학습률(lr)만큼 이동.\n",
    "        random_tensor = random_tensor - lr * random_tensor.grad\n",
    "    \n",
    "    # 반복문 1000번 마다 오차 출력\n",
    "    if i % 1000 == 0:\n",
    "        print(f\"loss at {i} = {loss.item()}\")\n",
    "\n",
    "# random_tensor 가 제대로 복원되었는지 확인\n",
    "plt.imshow(random_tensor.view(100, 100).data)"
   ]
  },
  {
   "cell_type": "markdown",
   "id": "376eeed4",
   "metadata": {},
   "source": [
    "### 3. 신경망 모델 구현하기\n",
    "\n",
    "### 3-1) 인공 신경망(ANN)\n",
    "\n",
    "- 입력층 : 자극 입력받는 감각 기관\n",
    "- 은닉층(=중간층)\n",
    "- 출력층 : 마지막 뉴런\n",
    "\n",
    "각 층에 존재하는 한 단위의 인공뉴런 = **노드**\n",
    "\n",
    "생물학적 신경세포는 인접 신경세포에 자극을 전달하기 전, 입력받은 자극에 여러 화학적 처리를 가한다.\n",
    "\n",
    "이와 유사하게 인공 신경망에서는 화학적 처리 대신 특정 수학 연산을 시행한다.\n",
    "\n",
    "각 층에 존재하는 매개변수인 **가중치**에 행렬곱시키고, **편향**을 더해주는 것.\n",
    "\n",
    "- 가중치 = 입력 신호가 출력에 주는 영향을 계산하는 매개변수\n",
    "- 편향 = 각 노드가 얼마나 데이터에 민감한지 알려주는 매개변수\n",
    "\n",
    "이 행렬곱의 결과는 **활성화 함수**를 거쳐 인공뉴런의 결괏값 산출.\n",
    "- 활성화 함수 = 입력에 적절한 처리를 해서 출력 신호로 변환하는 함수. 입력 신호의 합이 활성화를 일으키는지 아닌지를 정하는 역할.\n",
    "\n",
    "활성화 함수 참고 링크 : https://www.youtube.com/watch?v=guztYwPIP88\n",
    "\n",
    "\n",
    "이 작업을 반복해서 마지막 출력층에서 결괏값을 만들어낸 후,\n",
    "\n",
    "인공 신경망의 출력층이 낸 결괏값과 정답을 비교해 오차 계산해야함.\n",
    "\n",
    "오차를 기반으로 신경망 전체를 학습시키려면, 겹겹이 쌓인 가중치를 뒤에서부터 차례대로 조정하고 최적화하는 알고리즘 = **역전파** 알고리즘\n",
    "\n",
    "\n",
    "### 3-2) 간단한 분류 모델 구현하기\n",
    "지도학습, 그 중에서도 분류를 하는 간단한 인공 신경망 구현."
   ]
  },
  {
   "cell_type": "code",
   "execution_count": 2,
   "id": "89a912c4",
   "metadata": {},
   "outputs": [],
   "source": [
    "# 1. 라이브러리 import\n",
    "import torch\n",
    "import numpy\n",
    "from sklearn.datasets import make_blobs\n",
    "import matplotlib.pyplot as plt\n",
    "import torch.nn.functional as F"
   ]
  },
  {
   "cell_type": "code",
   "execution_count": 3,
   "id": "48fd5919",
   "metadata": {},
   "outputs": [],
   "source": [
    "# 2. 학습과 평가에 사용할 데이터셋 만들기\n",
    "n_dim = 2\n",
    "\n",
    "# make_blobs() 사용하여\n",
    "# 각 데이터 한 점이 몇 번째 클러스터에 속해 있는지 알려주는 인덱스 레이블 생성\n",
    "x_train, y_train = make_blobs(n_samples = 80, n_features = n_dim,\n",
    "                             centers = [[1, 1], [-1, -1], [1, -1],  [-1, 1]],\n",
    "                             shuffle = True, cluster_std = 0.3)\n",
    "x_test, y_test = make_blobs(n_samples = 20, n_features = n_dim,\n",
    "                           centers = [[1, 1], [-1, -1], [1, -1], [-1, 1]],\n",
    "                           shuffle = True, cluster_std = 0.3)"
   ]
  },
  {
   "cell_type": "code",
   "execution_count": 8,
   "id": "51ebf4af",
   "metadata": {},
   "outputs": [
    {
     "name": "stdout",
     "output_type": "stream",
     "text": [
      "160\n"
     ]
    }
   ],
   "source": [
    "print(x_train.size)"
   ]
  },
  {
   "cell_type": "code",
   "execution_count": 6,
   "id": "4c870515",
   "metadata": {},
   "outputs": [
    {
     "name": "stdout",
     "output_type": "stream",
     "text": [
      "[0 3 1 3 2 2 3 2 3 2 2 2 2 1 0 1 1 0 0 3 3 3 0 2 0 3 1 1 3 2 2 1 1 2 3 1 1\n",
      " 3 0 1 2 3 1 2 0 1 0 1 2 0 1 2 0 2 2 0 0 1 1 3 3 0 3 3 1 0 1 3 3 0 0 0 2 2\n",
      " 0 3 2 0 1 3]\n",
      "80\n"
     ]
    }
   ],
   "source": [
    "print(y_train)\n",
    "print(y_train.size)"
   ]
  },
  {
   "cell_type": "markdown",
   "id": "53eb1860",
   "metadata": {},
   "source": [
    "`make_blobs()` : 예제용 데이터셋을 만들어주는 함수. 실행 때마다 랜덤한 데이터셋 생성.\n",
    "\n",
    "- `n_samples`: 표본 데이터 수, 기본값 100\n",
    "- `n_features`: 독립 변수 수, 기본값 20\n",
    "- `centers`: 클러스터 수 혹은 중심, 기본값 3\n",
    "- `shuffle`: 숫자 랜덤으로 섞을 것인지\n",
    "- `cluster_std`: 클러스터 표준 편차, 기본값 1.0\n",
    "- `center_box` : 클러스터 바운딩 박스, 기본값 (-10.0, 10.0))\n",
    "\n",
    "참고링크 : https://datascienceschool.net/03%20machine%20learning/09.02%20%EB%B6%84%EB%A5%98%EC%9A%A9%20%EA%B0%80%EC%83%81%20%EB%8D%B0%EC%9D%B4%ED%84%B0%20%EC%83%9D%EC%84%B1.html"
   ]
  },
  {
   "cell_type": "code",
   "execution_count": 7,
   "id": "17299afc",
   "metadata": {},
   "outputs": [
    {
     "data": {
      "image/png": "[encoded data removed]",
      "text/plain": [
       "<Figure size 640x480 with 1 Axes>"
      ]
     },
     "metadata": {},
     "output_type": "display_data"
    }
   ],
   "source": [
    "# 0, 1 => 전부 0번 레이블을 갖도록 바꾸기\n",
    "# 2, 3 => 전부 1번 레이블 갖도록 바꾸기\n",
    "def label_map(y_, from_, to_):\n",
    "    y = numpy.copy(y_)\n",
    "    for f in from_:\n",
    "        y[y_ == f] = to_\n",
    "    return y\n",
    "\n",
    "y_train = label_map(y_train, [0, 1], 0)\n",
    "y_train = label_map(y_train, [2, 3], 1)\n",
    "y_test = label_map(y_test, [0, 1], 0)\n",
    "y_test = label_map(y_test, [2, 3], 1)\n",
    "\n",
    "\n",
    "# 시각화\n",
    "def vis_data(x, y = None, c = 'r'):\n",
    "    if y is None:\n",
    "        y = [None] * len(x)\n",
    "    for x_, y_ in zip(x, y):\n",
    "        if y_ is None:\n",
    "            plt.plot(x_[0], x_[1], '*', markerfacecolor = 'none',\n",
    "                    markeredgecolor = c)\n",
    "        else:\n",
    "            plt.plot(x_[0], x_[1], c+'o' if y_ == 0 else c+'+')\n",
    "\n",
    "plt.figure()\n",
    "vis_data(x_train, y_train, c = 'r')\n",
    "plt.show()"
   ]
  },
  {
   "attachments": {
    "image.png": {
     "image/png": "[encoded data removed]"
    }
   },
   "cell_type": "markdown",
   "id": "e90c1e24",
   "metadata": {},
   "source": [
    "이렇게 생긴 애는 y = wx + b 는 선형식이라 얘를 구분할 수 없다.\n",
    "![image.png](attachment:image.png)\n",
    "출처: stackoverflow  https://stackoverflow.com/questions/9600888/single-perceptron-non-linear-evaluating-function\n",
    "\n",
    "이를 해결하기 위해선 Single layer 가 아닌 Multiple layer 를 사용해야한다.\n",
    "(멀티플 레이어의 Error BackPropagation 을 사용해야한다고 하는데 일단 넘어가고 나중에 다시 와서 찾아보기)\n",
    "\n",
    "hidden layer를 중간에 두어 깊이를 깊게 만들어보자 해서 만들어진 것이 **Deep Neural Netwark** 이다."
   ]
  },
  {
   "cell_type": "code",
   "execution_count": 8,
   "id": "b518c508",
   "metadata": {},
   "outputs": [],
   "source": [
    "# 생성한 데이터를 넘파이 벡터에서 파이토치 텐서로 바꿔주기\n",
    "x_train = torch.FloatTensor(x_train)\n",
    "x_test = torch.FloatTensor(x_test)\n",
    "y_train = torch.FloatTensor(y_train)\n",
    "y_test = torch.FloatTensor(y_test)"
   ]
  },
  {
   "cell_type": "code",
   "execution_count": 9,
   "id": "21246d4d",
   "metadata": {},
   "outputs": [],
   "source": [
    "# 신경망 모델을 구현.\n",
    "# 파이토치에서 신경망은 보통 `torch.nn.Module`을 상속 받는 파이썬 클래스로 정의.\n",
    "class NeuralNet(torch.nn.Module):\n",
    "    # 생성자\n",
    "    def __init__(self, input_size, hidden_size): \n",
    "        super(NeuralNet, self).__init__() # nn.Module 상속받은 걸로 초기화하기\n",
    "        \n",
    "        self.input_size = input_size # 신경망에 입력되는 데이터의 차원\n",
    "        self.hidden_size = hidden_size # 신경망의 은닉층 크기\n",
    "        \n",
    "        # 입력된 데이터가 인공 신경망 통과하면서 거치는 연산들\n",
    "        self.linear_1 = torch.nn.Linear(self.input_size, self.hidden_size) # input_size 개를 받아서 hidden_size 개를 은닉층에 출력\n",
    "        self.relu = torch.nn.ReLU() # 활성화함수로는 relu 를 쓴다\n",
    "        self.linear_2 = torch.nn.Linear(self.hidden_size, 1) # hidden_size 개를 입력받아서 1개 출력한다\n",
    "        self.sigmoid = torch.nn.Sigmoid() # 활성화함수로는 sigmoid 쓴다\n",
    "        \n",
    "        \n",
    "    # 위에서 만들어 놓은 애들 차례대로 실행하기\n",
    "    def forward(self, input_tensor):\n",
    "        # 입력데이터에 [input_size, hidden_size] 크기의 가중치를 행렬곱하고 편향 더해서 [1, hidden_size] 꼴의 텐서 반환.\n",
    "        linear1 = self.linear_1(input_tensor) # 위에서 정의한 linear_1에 input_tensor 넣음\n",
    "        relu = self.relu(linear1)\n",
    "        linear2 = self.linear_2(relu)\n",
    "        output = self.sigmoid(linear2)\n",
    "        return output"
   ]
  },
  {
   "cell_type": "markdown",
   "id": "c74ae5af",
   "metadata": {},
   "source": [
    "차례대로\n",
    "\n",
    "\n",
    "> `[input_size, hidden_size]` - (linear1) -> `[1, hidden_size]` - (relu) -> `[1, hidden_size]` - (linear2) -> `[1, 1]`\n",
    "\n",
    "이 마지막 텐서를 sigmoid에 넣으면 값 하나(0에서 1사이 값)을 반환해준다.\n",
    "\n",
    "\n",
    "💡 참고링크: 파이토치 튜토리얼 https://tutorials.pytorch.kr/beginner/basics/buildmodel_tutorial.html\n",
    "\n",
    "📌 찾아보기: 활성화함수 종류 간단히 찾아보기\n",
    "\n",
    "1. Relu\n",
    ": Relu는 입력값이 음수면 0을, 양수면 입력값 그대로 출력해준다.\n",
    "\n",
    "2. Sigmoid\n",
    ": Sigmoid는 값을 0에서 1 사이로 제한해준다. .0과 1 중 어디에 가까운지 확인 -> 카테고리 분류"
   ]
  },
  {
   "cell_type": "code",
   "execution_count": 13,
   "id": "969948e9",
   "metadata": {
    "scrolled": true
   },
   "outputs": [
    {
     "name": "stdout",
     "output_type": "stream",
     "text": [
      "Before Training, test loss is 0.7325138449668884\n"
     ]
    }
   ],
   "source": [
    "# 신경망 객체 생성\n",
    "model = NeuralNet(2, 5) # input_size = 2, hidden_size = 5\n",
    "lr = 0.03\n",
    "\n",
    "# 오차 함수\n",
    "# BCELoss() = 이진 교차 엔트로피\n",
    "criterion = torch.nn.BCELoss()\n",
    "\n",
    "epochs = 2000\n",
    "\n",
    "# 학습에 사용할 최적화 알고리즘으로는 확률적 경사하강법(SGD) 선택\n",
    "opt = torch.optim.SGD(model.parameters(), lr = lr)\n",
    "\n",
    "# 모델 성능 평가\n",
    "model.eval() # 평가 모드로 변경\n",
    "\n",
    "# 모델의 결괏값과 레이블(y)의 차원 맞춰주기 위해 squueze로 펴줌.\n",
    "test_loss_before = criterion(model(x_test).squeeze(), y_test)\n",
    "print(f\"Before Training, test loss is {test_loss_before.item()}\")"
   ]
  },
  {
   "cell_type": "code",
   "execution_count": 14,
   "id": "e39724a5",
   "metadata": {
    "scrolled": true
   },
   "outputs": [
    {
     "name": "stdout",
     "output_type": "stream",
     "text": [
      "Train loss at 0 is 0.7333998084068298\n",
      "Train loss at 100 is 0.6719678640365601\n",
      "Train loss at 200 is 0.6174373626708984\n",
      "Train loss at 300 is 0.538774311542511\n",
      "Train loss at 400 is 0.446634441614151\n",
      "Train loss at 500 is 0.3636690378189087\n",
      "Train loss at 600 is 0.29485586285591125\n",
      "Train loss at 700 is 0.24171140789985657\n",
      "Train loss at 800 is 0.20189854502677917\n",
      "Train loss at 900 is 0.17150433361530304\n",
      "Train loss at 1000 is 0.14800572395324707\n",
      "Train loss at 1100 is 0.12949980795383453\n",
      "Train loss at 1200 is 0.1147788017988205\n",
      "Train loss at 1300 is 0.10291127860546112\n",
      "Train loss at 1400 is 0.09321969002485275\n",
      "Train loss at 1500 is 0.0852084830403328\n",
      "Train loss at 1600 is 0.07850663363933563\n",
      "Train loss at 1700 is 0.0728372186422348\n",
      "Train loss at 1800 is 0.06799028813838959\n",
      "Train loss at 1900 is 0.06380561739206314\n"
     ]
    }
   ],
   "source": [
    "# 학습을 통한 성능 개선\n",
    "\n",
    "for epoch in range(epochs):\n",
    "    model.train() # 학습 모드로 변경\n",
    "    opt.zero_grad() # epoch마다 새로운 경사값 계산해야하기 때문에 zero_grad() 사용해서 경삿값 0으로 설정.\n",
    "    \n",
    "    train_output = model(x_train) # 학습 데이터로 학습\n",
    "    train_loss = criterion(train_output.squeeze(), y_train) # 결과값과 실제 정답과 비교해서 오차 계산\n",
    "    \n",
    "    # 학습 잘 되고 있는지 확인\n",
    "    if epoch % 100 == 0:\n",
    "        print(f\"Train loss at {epoch} is {train_loss.item()}\")\n",
    "    \n",
    "    # 오차 함수를 가중치로 미분해서 오차가 최소가 되는 방향으로 학습률만큼 이동하도록 하기\n",
    "    # = 역전파\n",
    "    train_loss.backward()\n",
    "    opt.step()"
   ]
  },
  {
   "cell_type": "code",
   "execution_count": 16,
   "id": "692af49d",
   "metadata": {
    "scrolled": false
   },
   "outputs": [
    {
     "name": "stdout",
     "output_type": "stream",
     "text": [
      "After Training, test loss is 0.061986129730939865\n"
     ]
    }
   ],
   "source": [
    "# 학습 완료된 모델 성능 시험\n",
    "model.eval() # 평가 모드로 변경\n",
    "test_loss = criterion(torch.squeeze(model(x_test)), y_test)\n",
    "print(f\"After Training, test loss is {test_loss.item()}\")"
   ]
  },
  {
   "cell_type": "markdown",
   "id": "cd1164c5",
   "metadata": {},
   "source": [
    "학습 완료된 모델 `state_dict()` 함수 형태로 바꾸고 `.pt` 파일로 저장하기.\n",
    "* `state_dict()` : 모델 내 가중치들이 딕셔너리 형태로 `{연산이름: 가중치 텐서와 편향 텐서}`로 표현한 데이터"
   ]
  },
  {
   "cell_type": "code",
   "execution_count": 17,
   "id": "39d156e6",
   "metadata": {},
   "outputs": [
    {
     "name": "stdout",
     "output_type": "stream",
     "text": [
      "state_dict format of the model : OrderedDict([('linear_1.weight', tensor([[ 0.3503,  0.1310],\n",
      "        [-1.7319, -1.8814],\n",
      "        [ 0.1165,  0.0564],\n",
      "        [ 1.9831,  1.8379],\n",
      "        [-0.2900, -0.3082]])), ('linear_1.bias', tensor([ 1.0002, -0.5978,  0.9001, -0.2932, -0.0174])), ('linear_2.weight', tensor([[ 0.8015, -2.4831,  0.8068, -2.5721, -0.1969]])), ('linear_2.bias', tensor([2.1503]))])\n"
     ]
    }
   ],
   "source": [
    "torch.save(model.state_dict(), './model.pt')\n",
    "print(f\"state_dict format of the model : {model.state_dict()}\")"
   ]
  },
  {
   "cell_type": "code",
   "execution_count": 18,
   "id": "f5eee7cb",
   "metadata": {},
   "outputs": [
    {
     "data": {
      "text/plain": [
       "<All keys matched successfully>"
      ]
     },
     "execution_count": 18,
     "metadata": {},
     "output_type": "execute_result"
    }
   ],
   "source": [
    "# 새 모델 생성해서 학습한 모델 가중치 입력해보기\n",
    "new_model = NeuralNet(2, 5)\n",
    "new_model.load_state_dict(torch.load('./model.pt'))"
   ]
  },
  {
   "cell_type": "code",
   "execution_count": 21,
   "id": "3a27e70a",
   "metadata": {},
   "outputs": [
    {
     "name": "stdout",
     "output_type": "stream",
     "text": [
      "벡터 [-1 ,1]이 레이블 1을 가질 확률은 0.9693503975868225\n"
     ]
    }
   ],
   "source": [
    "new_model.eval()\n",
    "print(f\"벡터 [-1 ,1]이 레이블 1을 가질 확률은 { new_model( torch.FloatTensor( [-1, 1] )).item()}\")"
   ]
  },
  {
   "cell_type": "code",
   "execution_count": null,
   "id": "7d8866c9",
   "metadata": {},
   "outputs": [],
   "source": []
  }
 ],
 "metadata": {
  "kernelspec": {
   "display_name": "Python 3 (ipykernel)",
   "language": "python",
   "name": "python3"
  },
  "language_info": {
   "codemirror_mode": {
    "name": "ipython",
    "version": 3
   },
   "file_extension": ".py",
   "mimetype": "text/x-python",
   "name": "python",
   "nbconvert_exporter": "python",
   "pygments_lexer": "ipython3",
   "version": "3.10.7"
  }
 },
 "nbformat": 4,
 "nbformat_minor": 5
}
